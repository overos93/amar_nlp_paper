{
 "cells": [
  {
   "cell_type": "markdown",
   "id": "39314204",
   "metadata": {},
   "source": [
    "# Text Model Augmentation with Markov Chains\n",
    "- based on work by Marco Cerly and a blog post on towards data science blog (https://towardsdatascience.com/text-data-augmentation-makes-your-model-stronger-7232bd23704)\n",
    "\n",
    "This will take a data set that exists and generate fake data based on what exists."
   ]
  },
  {
   "cell_type": "code",
   "execution_count": 1,
   "id": "3fe3b35b",
   "metadata": {},
   "outputs": [
    {
     "ename": "ModuleNotFoundError",
     "evalue": "No module named 'sklearn'",
     "output_type": "error",
     "traceback": [
      "\u001b[1;31m---------------------------------------------------------------------------\u001b[0m",
      "\u001b[1;31mModuleNotFoundError\u001b[0m                       Traceback (most recent call last)",
      "Input \u001b[1;32mIn [1]\u001b[0m, in \u001b[0;36m<cell line: 11>\u001b[1;34m()\u001b[0m\n\u001b[0;32m      8\u001b[0m \u001b[38;5;28;01mimport\u001b[39;00m \u001b[38;5;21;01mmatplotlib\u001b[39;00m\u001b[38;5;21;01m.\u001b[39;00m\u001b[38;5;21;01mpyplot\u001b[39;00m \u001b[38;5;28;01mas\u001b[39;00m \u001b[38;5;21;01mplt\u001b[39;00m\n\u001b[0;32m     10\u001b[0m \u001b[38;5;28;01mfrom\u001b[39;00m \u001b[38;5;21;01mnltk\u001b[39;00m\u001b[38;5;21;01m.\u001b[39;00m\u001b[38;5;21;01mcorpus\u001b[39;00m \u001b[38;5;28;01mimport\u001b[39;00m stopwords\n\u001b[1;32m---> 11\u001b[0m \u001b[38;5;28;01mfrom\u001b[39;00m \u001b[38;5;21;01msklearn\u001b[39;00m\u001b[38;5;21;01m.\u001b[39;00m\u001b[38;5;21;01mlinear_model\u001b[39;00m \u001b[38;5;28;01mimport\u001b[39;00m LogisticRegression\n\u001b[0;32m     12\u001b[0m \u001b[38;5;28;01mfrom\u001b[39;00m \u001b[38;5;21;01msklearn\u001b[39;00m\u001b[38;5;21;01m.\u001b[39;00m\u001b[38;5;21;01mensemble\u001b[39;00m \u001b[38;5;28;01mimport\u001b[39;00m RandomForestClassifier\n\u001b[0;32m     13\u001b[0m \u001b[38;5;28;01mfrom\u001b[39;00m \u001b[38;5;21;01msklearn\u001b[39;00m\u001b[38;5;21;01m.\u001b[39;00m\u001b[38;5;21;01mneural_network\u001b[39;00m \u001b[38;5;28;01mimport\u001b[39;00m MLPClassifier\n",
      "\u001b[1;31mModuleNotFoundError\u001b[0m: No module named 'sklearn'"
     ]
    }
   ],
   "source": [
    "import os\n",
    "import tqdm\n",
    "import string\n",
    "import random\n",
    "import numpy as np\n",
    "import pandas as pd\n",
    "from collections import *\n",
    "import matplotlib.pyplot as plt\n",
    "\n",
    "from nltk.corpus import stopwords\n",
    "from sklearn.linear_model import LogisticRegression\n",
    "from sklearn.ensemble import RandomForestClassifier\n",
    "from sklearn.neural_network import MLPClassifier\n",
    "from sklearn.model_selection import train_test_split, GridSearchCV\n",
    "from sklearn.feature_extraction.text import TfidfVectorizer\n",
    "from sklearn.metrics import recall_score, precision_score, roc_auc_score, f1_score"
   ]
  },
  {
   "cell_type": "code",
   "execution_count": 1,
   "id": "40f8f36f",
   "metadata": {},
   "outputs": [],
   "source": [
    "def build_chain(texts):\n",
    "    \n",
    "    index = 1\n",
    "    chain = {}\n",
    "    \n",
    "    for text in texts:\n",
    "        \n",
    "        text = text.split()\n",
    "        for word in text[index:]:\n",
    "            key = text[index-1]\n",
    "            if key in chain:\n",
    "                chain[key].append(word)\n",
    "            else:\n",
    "                chain[key] = [word]\n",
    "            index += 1\n",
    "        \n",
    "        index = 1\n",
    "    \n",
    "    return chain\n",
    "def create_sentence(chain, lenght):\n",
    "    \n",
    "    start = random.choice(list(chain.keys()))\n",
    "    text = [start]\n",
    "    while len(text) < lenght:\n",
    "        try:\n",
    "            after = random.choice(chain[start])\n",
    "            start = after\n",
    "            text.append(after)\n",
    "        except: #end of the sentence\n",
    "            #text.append('.')\n",
    "            start = random.choice(list(chain.keys()))\n",
    "    \n",
    "    return ' '.join(text)\n",
    "def Generator(x_train, y_train, rep, concat=False, seed=33):\n",
    "    \n",
    "    np.random.seed(seed)\n",
    "    \n",
    "    new_corpus, new_labels = [], []\n",
    "    \n",
    "    for i,lab in enumerate(np.unique(y_train)):\n",
    "        selected = x_train[y_train == lab]\n",
    "        chain = build_chain(selected)\n",
    "        sentences = []\n",
    "        for i in range(rep):\n",
    "            lenght = int(np.random.choice(lenghts, 1, p=freq))\n",
    "            sentences.append(create_sentence(chain, lenght))\n",
    "        new_corpus.extend(sentences)\n",
    "        new_labels.extend([lab]*rep)\n",
    "    \n",
    "    if concat:\n",
    "        return list(x_train)+new_corpus, list(y_train)+new_labels\n",
    "    \n",
    "    return new_corpus, new_labels"
   ]
  },
  {
   "cell_type": "code",
   "execution_count": null,
   "id": "9a6a97bc",
   "metadata": {},
   "outputs": [],
   "source": []
  }
 ],
 "metadata": {
  "kernelspec": {
   "display_name": "Python 3 (ipykernel)",
   "language": "python",
   "name": "python3"
  },
  "language_info": {
   "codemirror_mode": {
    "name": "ipython",
    "version": 3
   },
   "file_extension": ".py",
   "mimetype": "text/x-python",
   "name": "python",
   "nbconvert_exporter": "python",
   "pygments_lexer": "ipython3",
   "version": "3.9.5"
  }
 },
 "nbformat": 4,
 "nbformat_minor": 5
}
